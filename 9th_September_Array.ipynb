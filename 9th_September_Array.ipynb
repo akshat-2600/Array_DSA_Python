{
 "cells": [
  {
   "cell_type": "code",
   "execution_count": 4,
   "id": "b9239eef-9fb2-4c60-a7ef-8675e5d8c589",
   "metadata": {},
   "outputs": [
    {
     "name": "stdout",
     "output_type": "stream",
     "text": [
      "True\n"
     ]
    }
   ],
   "source": [
    "## 1. Given an array, check if it contains any duplicates or not.\n",
    "## arr = [1, 2, 4, 2, 5, 9]\n",
    "## Output = True\n",
    "\n",
    "## Time Complexity: O(n)\n",
    "## Space Complexity: O(n)\n",
    "\n",
    "## definition of function\n",
    "def checkDuplicateElements(arr):\n",
    "    duplicateArr = []\n",
    "    for i in arr:\n",
    "        if i in duplicateArr:\n",
    "            return True\n",
    "        duplicateArr.append(i)\n",
    "    else :\n",
    "        return False\n",
    "        \n",
    "\n",
    "## driver code\n",
    "arr = [1, 2, 4, 2, 5, 9]\n",
    "print(checkDuplicateElements(arr))"
   ]
  },
  {
   "cell_type": "code",
   "execution_count": 7,
   "id": "4041496c-a0b3-46ee-942d-834f91ead189",
   "metadata": {},
   "outputs": [
    {
     "name": "stdout",
     "output_type": "stream",
     "text": [
      "[5, 6, 7, 1, 2, 3, 4]\n"
     ]
    }
   ],
   "source": [
    "## 2. Given an array and an integer k, rotate the array to the right by k steps.\n",
    "## arr = [1, 2, 3, 4, 5, 6, 7] k = 3\n",
    "## Output = [5, 6, 7, 1, 2, 3, 4]\n",
    "\n",
    "## Time Complexity: O(1)\n",
    "## Space Complexity: O(1)\n",
    "\n",
    "## definition of function\n",
    "def rotateArraykSteps(arr , k):\n",
    "    return arr[k+1::] + arr[:k+1]\n",
    "    \n",
    "\n",
    "## driver code\n",
    "arr = [1, 2, 3, 4, 5, 6, 7]\n",
    "k = 3\n",
    "print(rotateArraykSteps(arr , k))"
   ]
  },
  {
   "cell_type": "code",
   "execution_count": 8,
   "id": "bc49eca3-2af7-487f-abbc-611e001014ae",
   "metadata": {},
   "outputs": [
    {
     "name": "stdout",
     "output_type": "stream",
     "text": [
      "[12, 9, 7, 5, 4, 2]\n"
     ]
    }
   ],
   "source": [
    "## 3. Reverse the given array in-place, means without using any extra data structure.\n",
    "## arr = [2, 4, 5, 7, 9, 12]\n",
    "## Output = [12, 9, 7, 5, 4, 2]\n",
    "\n",
    "## Time Complexity: O(1)\n",
    "## Space Complexity: O(1)\n",
    "\n",
    "## definition of function\n",
    "def reverseArray(arr):\n",
    "    return arr[::-1]\n",
    "\n",
    "\n",
    "## driver code\n",
    "arr = [2, 4, 5, 7, 9, 12]\n",
    "print(reverseArray(arr))"
   ]
  },
  {
   "cell_type": "code",
   "execution_count": 13,
   "id": "d6be54c6-9821-4759-902d-35b95bc8bb46",
   "metadata": {},
   "outputs": [
    {
     "name": "stdout",
     "output_type": "stream",
     "text": [
      "20\n"
     ]
    }
   ],
   "source": [
    "## 4. Given an array of integers, find the maximum element in an array\n",
    "## arr = [10, 5, 20, 8, 15]\n",
    "## Output = 20\n",
    "\n",
    "## Time Complexity: O(n)\n",
    "## Space Complexity: O(1)\n",
    "\n",
    "## definition of function\n",
    "def maxElementArray(arr):\n",
    "    if not arr:\n",
    "        raise ValueErrror(\"Array is Empty\")\n",
    "    else:\n",
    "        max_num = arr[0]\n",
    "        for i in arr[1::]:\n",
    "            if i > max_num:\n",
    "                max_num = i\n",
    "        return max_num\n",
    "    \n",
    "    \n",
    "## driver code\n",
    "arr = [10, 5, 20, 8, 15]\n",
    "print(maxElementArray(arr))"
   ]
  },
  {
   "cell_type": "code",
   "execution_count": 15,
   "id": "033afa0a-10a7-4bb5-a142-9c93933dce83",
   "metadata": {},
   "outputs": [
    {
     "name": "stdout",
     "output_type": "stream",
     "text": [
      "[1, 2, 3, 4, 5]\n"
     ]
    }
   ],
   "source": [
    "## 5. Given a sorted array, remove the duplicate element without using any extra data structure.\n",
    "## arr = [1, 1, 2, 2, 2, 3, 3, 4, 4, 4, 5, 5]\n",
    "## Output = [1, 2, 3, 4, 5]\n",
    "\n",
    "##Time Complexity:\n",
    "\n",
    "## definition of function\n",
    "def removeDuplicateElements(arr):\n",
    "    if not arr:\n",
    "        return arr\n",
    "\n",
    "    writeIndex = 1\n",
    "    \n",
    "    for readIndex in range(1, len(arr)):\n",
    "        \n",
    "        if arr[readIndex] != arr[readIndex - 1]:\n",
    "            arr[writeIndex] = arr[readIndex]\n",
    "            \n",
    "            writeIndex += 1\n",
    "    \n",
    "    return arr[:writeIndex]\n",
    "\n",
    "\n",
    "## driver code\n",
    "arr = [1, 1, 2, 2, 2, 3, 3, 4, 4, 4, 5, 5]\n",
    "print(removeDuplicateElements(arr))"
   ]
  },
  {
   "cell_type": "code",
   "execution_count": null,
   "id": "1c025b81-4dbd-4ac3-a592-7f33eeb52f83",
   "metadata": {},
   "outputs": [],
   "source": []
  }
 ],
 "metadata": {
  "kernelspec": {
   "display_name": "Python 3 (ipykernel)",
   "language": "python",
   "name": "python3"
  },
  "language_info": {
   "codemirror_mode": {
    "name": "ipython",
    "version": 3
   },
   "file_extension": ".py",
   "mimetype": "text/x-python",
   "name": "python",
   "nbconvert_exporter": "python",
   "pygments_lexer": "ipython3",
   "version": "3.10.8"
  }
 },
 "nbformat": 4,
 "nbformat_minor": 5
}
